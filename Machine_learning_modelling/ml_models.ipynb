{
 "cells": [
  {
   "cell_type": "code",
   "execution_count": 1,
   "metadata": {},
   "outputs": [],
   "source": [
    "import pandas as pd\n",
    "import matplotlib.pyplot as plt\n",
    "import json\n",
    "import numpy as np\n",
    "import osmnx as ox\n",
    "import networkx as nx\n",
    "import geopandas as gpd\n",
    "import random\n",
    "import pandas as pd\n",
    "import pickle\n",
    "import os\n",
    "import pyproj\n",
    "from shapely.geometry import Point, LineString\n",
    "from datetime import datetime, timedelta\n",
    "import ast\n",
    "from geopy.distance import geodesic\n",
    "from polyline import decode as decode_polyline\n",
    "from sklearn.preprocessing import LabelEncoder\n",
    "import seaborn as sns\n",
    "\n",
    "# Z-score normalization\n",
    "from sklearn.preprocessing import StandardScaler,MinMaxScaler\n",
    "\n",
    "from sklearn.model_selection import train_test_split, cross_val_score, GridSearchCV,StratifiedKFold,RandomizedSearchCV\n",
    "from sklearn.ensemble import RandomForestClassifier\n",
    "from sklearn.metrics import accuracy_score,classification_report, confusion_matrix,make_scorer,f1_score, precision_score, recall_score, balanced_accuracy_score\n",
    "\n",
    "from datetime import date\n",
    "\n",
    "today_date = date.today()\n",
    "formatted_date = today_date.strftime(\"%Y-%m-%d\")\n",
    "prior_day = today_date - timedelta(days=6)\n",
    "\n",
    "scaler = MinMaxScaler()\n",
    "# Initialize a LabelEncoder\n",
    "from sklearn.neighbors import KNeighborsClassifier\n",
    "import xgboost as xgb\n"
   ]
  },
  {
   "cell_type": "code",
   "execution_count": 2,
   "metadata": {},
   "outputs": [],
   "source": [
    "df_ml = pd.read_csv('C:\\\\Users\\\\Camelia\\\\Desktop\\\\app\\\\Disertatie\\\\ML\\\\MLDatasetUntil_'+(today_date-timedelta(days=11)).strftime(\"%Y-%m-%d\")+'.csv')\n",
    "\n",
    "congestion_mapping = {\n",
    "    'Low Congestion': 0,\n",
    "    'Moderate Congestion': 1,\n",
    "    'High Congestion': 2\n",
    "}\n",
    "day_mapping = {\n",
    "    'Monday': 0,\n",
    "    'Tuesday': 1,\n",
    "    'Wednesday': 2,\n",
    "    'Thursday': 3,\n",
    "    'Friday': 4,\n",
    "    'Saturday': 5,\n",
    "    'Sunday': 6\n",
    "}\n",
    "weather_mapping={\n",
    "'scattered clouds': 0,\n",
    "'broken clouds': 1,\n",
    "'overcast clouds': 2,\n",
    "'light rain': 3,\n",
    "'moderate rain' : 4,\n",
    "'heavy intensity rain': 5,\n",
    "'few clouds': 6,\n",
    "'clear sky':7\n",
    "\n",
    "}\n",
    "# Map the congestion levels\n",
    "\n",
    "df_ml['congestion_level'] = df_ml['congestion_level'].map(congestion_mapping)\n",
    "df_ml['day_of_week'] = df_ml['day_of_week'].map(day_mapping)\n",
    "df_ml['weather_data'] = df_ml['weather_data'].map(weather_mapping)\n",
    "#df_ml['congestion_level'] = label_encoder.fit_transform(df_ml['congestion_level'].values)\n",
    "X = df_ml.drop(['congestion_level','timestamp','origin_osmid','destination_osmid','Unnamed: 0'], axis=1)  # Features are all columns except 'congestion_level'\n",
    "y = df_ml['congestion_level']  # Target variable is 'congestion_level' column\n",
    "\n",
    "X_train, X_test, y_train, y_test = train_test_split(X, y, test_size=0.2, random_state=42)"
   ]
  },
  {
   "cell_type": "code",
   "execution_count": 8,
   "metadata": {},
   "outputs": [],
   "source": [
    "rf_regressor = RandomForestClassifier(n_estimators=100, random_state=42)\n",
    "rf_regressor.fit(X_train, y_train)\n",
    "y_pred = rf_regressor.predict(X_test)"
   ]
  },
  {
   "cell_type": "code",
   "execution_count": 9,
   "metadata": {},
   "outputs": [
    {
     "name": "stdout",
     "output_type": "stream",
     "text": [
      "\n",
      "Confusion Matrix:\n",
      "                     Low Congestion  Moderate Congestion  High Congestion\n",
      "Low Congestion                14446                   10                0\n",
      "Moderate Congestion              14                 9578               95\n",
      "High Congestion                   1                   99             1345\n",
      "\n",
      "Classification Report:\n",
      "                     precision    recall  f1-score   support\n",
      "\n",
      "     Low Congestion       1.00      1.00      1.00     14456\n",
      "Moderate Congestion       0.99      0.99      0.99      9687\n",
      "    High Congestion       0.93      0.93      0.93      1445\n",
      "\n",
      "           accuracy                           0.99     25588\n",
      "          macro avg       0.97      0.97      0.97     25588\n",
      "       weighted avg       0.99      0.99      0.99     25588\n",
      "\n"
     ]
    }
   ],
   "source": [
    "# Print confusion matrix and classification report with corresponding labels\n",
    "print(\"\\nConfusion Matrix:\")\n",
    "print(pd.DataFrame(confusion_matrix(y_test, y_pred), index=class_labels, columns=class_labels))\n",
    "print(\"\\nClassification Report:\")\n",
    "print(classification_report(y_test, y_pred, target_names=class_labels))"
   ]
  },
  {
   "cell_type": "code",
   "execution_count": 7,
   "metadata": {},
   "outputs": [],
   "source": [
    "knn_classifier = KNeighborsClassifier(n_neighbors=3)\n",
    "knn_classifier.fit(X_train, y_train)\n",
    "y_pred = knn_classifier.predict(X_test)"
   ]
  },
  {
   "cell_type": "code",
   "execution_count": 8,
   "metadata": {},
   "outputs": [
    {
     "name": "stdout",
     "output_type": "stream",
     "text": [
      "\n",
      "Confusion Matrix:\n",
      "                     High Congestion  Low Congestion  Moderate Congestion\n",
      "High Congestion                   32              16                   56\n",
      "Low Congestion                    41            1076                  242\n",
      "Moderate Congestion               60             249                  535\n",
      "\n",
      "Classification Report:\n",
      "                     precision    recall  f1-score   support\n",
      "\n",
      "    High Congestion       0.24      0.31      0.27       104\n",
      "     Low Congestion       0.80      0.79      0.80      1359\n",
      "Moderate Congestion       0.64      0.63      0.64       844\n",
      "\n",
      "           accuracy                           0.71      2307\n",
      "          macro avg       0.56      0.58      0.57      2307\n",
      "       weighted avg       0.72      0.71      0.72      2307\n",
      "\n"
     ]
    }
   ],
   "source": [
    "# Print confusion matrix and classification report with corresponding labels\n",
    "print(\"\\nConfusion Matrix:\")\n",
    "print(pd.DataFrame(confusion_matrix(y_test, y_pred), index=class_labels, columns=class_labels))\n",
    "print(\"\\nClassification Report:\")\n",
    "print(classification_report(y_test, y_pred, target_names=class_labels))"
   ]
  },
  {
   "cell_type": "code",
   "execution_count": 3,
   "metadata": {},
   "outputs": [],
   "source": [
    "class_labels = ['Low Congestion', 'Moderate Congestion', 'High Congestion']\n",
    "# Initialize XGBoost classifier\n",
    "#xgb_classifier = xgb.XGBClassifier(objective= 'multi:softmax',num_class=3)\n",
    "#\n",
    "## Train the classifier\n",
    "#xgb_classifier.fit(X_train, y_train)\n",
    "#\n",
    "## Predictions on the testing set\n",
    "#y_pred = xgb_classifier.predict(X_test)\n",
    "## Print confusion matrix and classification report with corresponding labels\n",
    "#\n",
    "#print(\"\\nConfusion Matrix:\")\n",
    "#print(pd.DataFrame(confusion_matrix(y_test, y_pred), index=class_labels, columns=class_labels))\n",
    "#print(\"\\nClassification Report:\")\n",
    "#print(classification_report(y_test, y_pred, target_names=class_labels))"
   ]
  },
  {
   "cell_type": "code",
   "execution_count": null,
   "metadata": {},
   "outputs": [],
   "source": [
    "\n",
    "# Define the XGBoost classifier\n",
    "xgb_classifier = xgb.XGBClassifier(objective='multi:softmax', num_class=3, use_label_encoder=False, eval_metric='mlogloss')\n",
    "\n",
    "# Define parameter grid for RandomizedSearchCV\n",
    "param_dist = {\n",
    "    'n_estimators': [20,25,50,100, 150, 200],\n",
    "    'learning_rate': [0.0001,0.001,0.1],\n",
    "    'max_depth': [3, 5, 7,9,11,13,15],\n",
    "    'subsample': [0.6, 0.7,0.8, 1.0],\n",
    "    'colsample_bytree': [0.6, 0.8, 1.0],\n",
    "    'n_iter' : [50,100,150,200],\n",
    "    'gamma': [0, 0.1, 0.3],\n",
    "    'reg_alpha': [0, 0.1, 0.5],\n",
    "    'reg_lambda': [1, 1.5, 2],\n",
    "    'colsample_bytree': [0.3, 0.7, 1.0]\n",
    "    \n",
    "}\n",
    "\n",
    "# Define scoring metrics\n",
    "scoring = {\n",
    "    'precision': make_scorer(precision_score, average='weighted'),\n",
    "    'recall': make_scorer(recall_score, average='weighted'),\n",
    "    'f1_weighted': make_scorer(f1_score, average='weighted'),\n",
    "    'balanced_accuracy': make_scorer(balanced_accuracy_score),\n",
    "    'accuracy': make_scorer(accuracy_score)\n",
    "}\n",
    "\n",
    "# Perform RandomizedSearchCV\n",
    "random_search = RandomizedSearchCV(xgb_classifier, param_distributions=param_dist, n_iter=10, scoring=scoring, refit='f1_weighted', n_jobs=-1, cv=3, random_state=42)\n",
    "random_search.fit(X_train, y_train)\n",
    "# Get the results\n",
    "results = random_search.cv_results_"
   ]
  },
  {
   "cell_type": "code",
   "execution_count": 5,
   "metadata": {},
   "outputs": [
    {
     "data": {
      "image/png": "[encoded data removed]",
      "text/plain": [
       "<Figure size 1008x720 with 1 Axes>"
      ]
     },
     "metadata": {},
     "output_type": "display_data"
    }
   ],
   "source": [
    "# Determine the number of valid models to extract\n",
    "num_valid_models = min(len(results['rank_test_f1_weighted']), 10)\n",
    "\n",
    "# Extract the indices of the top models based on F1 score\n",
    "sorted_indices = sorted(range(len(results['rank_test_f1_weighted'])), key=lambda i: results['rank_test_f1_weighted'][i])[:num_valid_models]\n",
    "\n",
    "# Extract the top models based on F1 score\n",
    "top_params = [results['params'][i] for i in sorted_indices]\n",
    "top_f1_scores = [results['mean_test_f1_weighted'][i] for i in sorted_indices]\n",
    "\n",
    "# Create labels without parameters for the models\n",
    "model_labels = [f\"Model {i+1}\" for i in range(num_valid_models)]\n",
    "\n",
    "# Create a DataFrame to store the results\n",
    "df = pd.DataFrame({\n",
    "    'Model': model_labels,\n",
    "    'F1 Score': top_f1_scores,\n",
    "    'Params': top_params\n",
    "})\n",
    "\n",
    "# Plot the results\n",
    "plt.style.use('dark_background')\n",
    "fig, ax = plt.subplots(figsize=(14, 10))\n",
    "\n",
    "# Plot F1 scores using vertical bars\n",
    "bars = ax.bar(df['Model'], df['F1 Score'], color='#89f336', alpha=0.6, label='F1 Score')\n",
    "\n",
    "# Add the F1 score values as text\n",
    "for bar in bars:\n",
    "    height = bar.get_height()\n",
    "    ax.text(bar.get_x() + bar.get_width() / 2, height + 0.01, f'{height:.2f}', ha='center', va='bottom')\n",
    "fig.patch.set_facecolor('#2E2E2E')  # Set figure background color\n",
    "ax.set_ylabel('F1 Score')\n",
    "ax.set_title('Top XGBoost Classifier Models')\n",
    "# Change the color of the spines to grey\n",
    "ax.spines['top'].set_color('grey')\n",
    "ax.spines['right'].set_color('grey')\n",
    "ax.spines['bottom'].set_color('grey')\n",
    "ax.spines['left'].set_color('grey')\n",
    "plt.tight_layout()\n",
    "plt.show()"
   ]
  },
  {
   "cell_type": "code",
   "execution_count": 11,
   "metadata": {},
   "outputs": [],
   "source": [
    "# Export model\n",
    "pickle.dump(xgb_classifier, open('model_XGB_1.pkl', 'wb'))\n",
    "# Read the Model\n",
    "#model_pre_trained = pickle.load(open('model_XGB.pkl','rb'))"
   ]
  },
  {
   "cell_type": "code",
   "execution_count": 18,
   "metadata": {},
   "outputs": [
    {
     "data": {
      "text/plain": [
       "1"
      ]
     },
     "execution_count": 18,
     "metadata": {},
     "output_type": "execute_result"
    }
   ],
   "source": [
    "features = X_test.iloc[0].values\n",
    "\n",
    "# Create a DataFrame with the extracted features\n",
    "test_df = pd.DataFrame([features], columns=X_test.columns)\n",
    "\n",
    "# Make predictions\n",
    "prediction = model_pre_trained.predict(test_df)\n",
    "prediction.tolist()[0]"
   ]
  }
 ],
 "metadata": {
  "kernelspec": {
   "display_name": "base",
   "language": "python",
   "name": "python3"
  },
  "language_info": {
   "codemirror_mode": {
    "name": "ipython",
    "version": 3
   },
   "file_extension": ".py",
   "mimetype": "text/x-python",
   "name": "python",
   "nbconvert_exporter": "python",
   "pygments_lexer": "ipython3",
   "version": "3.9.7"
  }
 },
 "nbformat": 4,
 "nbformat_minor": 2
}
