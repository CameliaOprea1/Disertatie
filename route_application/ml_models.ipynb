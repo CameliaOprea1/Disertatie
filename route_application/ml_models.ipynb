{
 "cells": [
  {
   "cell_type": "code",
   "execution_count": 2,
   "metadata": {},
   "outputs": [],
   "source": [
    "import pandas as pd\n",
    "import matplotlib.pyplot as plt\n",
    "import json\n",
    "import numpy as np\n",
    "import osmnx as ox\n",
    "import networkx as nx\n",
    "import geopandas as gpd\n",
    "import random\n",
    "import pandas as pd\n",
    "import pickle\n",
    "import os\n",
    "import pyproj\n",
    "from shapely.geometry import Point, LineString\n",
    "from datetime import datetime, timedelta\n",
    "import ast\n",
    "from geopy.distance import geodesic\n",
    "from polyline import decode as decode_polyline\n",
    "from sklearn.preprocessing import LabelEncoder\n",
    "import seaborn as sns\n",
    "\n",
    "# Z-score normalization\n",
    "from sklearn.preprocessing import StandardScaler,MinMaxScaler\n",
    "\n",
    "from sklearn.model_selection import train_test_split, cross_val_score, GridSearchCV,StratifiedKFold\n",
    "from sklearn.ensemble import RandomForestClassifier\n",
    "from sklearn.metrics import accuracy_score,classification_report, confusion_matrix\n",
    "\n",
    "from datetime import date\n",
    "\n",
    "today_date = date.today()\n",
    "formatted_date = today_date.strftime(\"%Y-%m-%d\")\n",
    "prior_day = today_date - timedelta(days=1)\n",
    "\n",
    "scaler = MinMaxScaler()\n",
    "# Initialize a LabelEncoder\n",
    "from sklearn.neighbors import KNeighborsClassifier\n",
    "import xgboost as xgb\n"
   ]
  },
  {
   "cell_type": "code",
   "execution_count": 6,
   "metadata": {},
   "outputs": [],
   "source": [
    "df_ml = pd.read_csv('C:\\\\Users\\\\Camelia\\\\Desktop\\\\app\\\\Disertatie\\\\ML\\\\MLDatasetUntil_'+(today_date-timedelta(days=1)).strftime(\"%Y-%m-%d\")+'.csv')\n",
    "\n",
    "congestion_mapping = {\n",
    "    'Low Congestion': 0,\n",
    "    'Moderate Congestion': 1,\n",
    "    'High Congestion': 2\n",
    "}\n",
    "day_mapping = {\n",
    "    'Monday': 0,\n",
    "    'Tuesday': 1,\n",
    "    'Wednesday': 2,\n",
    "    'Thursday': 3,\n",
    "    'Friday': 4,\n",
    "    'Saturday': 5,\n",
    "    'Sunday': 6\n",
    "}\n",
    "weather_mapping={\n",
    "'scattered clouds': 0,\n",
    "'broken clouds': 1,\n",
    "'overcast clouds': 2,\n",
    "'light rain': 3,\n",
    "'moderate rain' : 4,\n",
    "'heavy intensity rain': 5,\n",
    "'few clouds': 6,\n",
    "'clear sky':7\n",
    "\n",
    "}\n",
    "# Map the congestion levels\n",
    "\n",
    "df_ml['congestion_level'] = df_ml['congestion_level'].map(congestion_mapping)\n",
    "df_ml['day_of_week'] = df_ml['day_of_week'].map(day_mapping)\n",
    "df_ml['weather_data'] = df_ml['weather_data'].map(weather_mapping)\n",
    "#df_ml['congestion_level'] = label_encoder.fit_transform(df_ml['congestion_level'].values)\n",
    "X = df_ml.drop(['congestion_level','timestamp','origin_osmid','destination_osmid','Unnamed: 0'], axis=1)  # Features are all columns except 'congestion_level'\n",
    "y = df_ml['congestion_level']  # Target variable is 'congestion_level' column\n",
    "\n",
    "X_train, X_test, y_train, y_test = train_test_split(X, y, test_size=0.2, random_state=42)"
   ]
  },
  {
   "cell_type": "code",
   "execution_count": 8,
   "metadata": {},
   "outputs": [],
   "source": [
    "rf_regressor = RandomForestClassifier(n_estimators=100, random_state=42)\n",
    "rf_regressor.fit(X_train, y_train)\n",
    "y_pred = rf_regressor.predict(X_test)"
   ]
  },
  {
   "cell_type": "code",
   "execution_count": 9,
   "metadata": {},
   "outputs": [
    {
     "name": "stdout",
     "output_type": "stream",
     "text": [
      "\n",
      "Confusion Matrix:\n",
      "                     Low Congestion  Moderate Congestion  High Congestion\n",
      "Low Congestion                14446                   10                0\n",
      "Moderate Congestion              14                 9578               95\n",
      "High Congestion                   1                   99             1345\n",
      "\n",
      "Classification Report:\n",
      "                     precision    recall  f1-score   support\n",
      "\n",
      "     Low Congestion       1.00      1.00      1.00     14456\n",
      "Moderate Congestion       0.99      0.99      0.99      9687\n",
      "    High Congestion       0.93      0.93      0.93      1445\n",
      "\n",
      "           accuracy                           0.99     25588\n",
      "          macro avg       0.97      0.97      0.97     25588\n",
      "       weighted avg       0.99      0.99      0.99     25588\n",
      "\n"
     ]
    }
   ],
   "source": [
    "# Print confusion matrix and classification report with corresponding labels\n",
    "print(\"\\nConfusion Matrix:\")\n",
    "print(pd.DataFrame(confusion_matrix(y_test, y_pred), index=class_labels, columns=class_labels))\n",
    "print(\"\\nClassification Report:\")\n",
    "print(classification_report(y_test, y_pred, target_names=class_labels))"
   ]
  },
  {
   "cell_type": "code",
   "execution_count": 7,
   "metadata": {},
   "outputs": [],
   "source": [
    "knn_classifier = KNeighborsClassifier(n_neighbors=3)\n",
    "knn_classifier.fit(X_train, y_train)\n",
    "y_pred = knn_classifier.predict(X_test)"
   ]
  },
  {
   "cell_type": "code",
   "execution_count": 8,
   "metadata": {},
   "outputs": [
    {
     "name": "stdout",
     "output_type": "stream",
     "text": [
      "\n",
      "Confusion Matrix:\n",
      "                     High Congestion  Low Congestion  Moderate Congestion\n",
      "High Congestion                   32              16                   56\n",
      "Low Congestion                    41            1076                  242\n",
      "Moderate Congestion               60             249                  535\n",
      "\n",
      "Classification Report:\n",
      "                     precision    recall  f1-score   support\n",
      "\n",
      "    High Congestion       0.24      0.31      0.27       104\n",
      "     Low Congestion       0.80      0.79      0.80      1359\n",
      "Moderate Congestion       0.64      0.63      0.64       844\n",
      "\n",
      "           accuracy                           0.71      2307\n",
      "          macro avg       0.56      0.58      0.57      2307\n",
      "       weighted avg       0.72      0.71      0.72      2307\n",
      "\n"
     ]
    }
   ],
   "source": [
    "# Print confusion matrix and classification report with corresponding labels\n",
    "print(\"\\nConfusion Matrix:\")\n",
    "print(pd.DataFrame(confusion_matrix(y_test, y_pred), index=class_labels, columns=class_labels))\n",
    "print(\"\\nClassification Report:\")\n",
    "print(classification_report(y_test, y_pred, target_names=class_labels))"
   ]
  },
  {
   "cell_type": "code",
   "execution_count": 7,
   "metadata": {},
   "outputs": [
    {
     "name": "stdout",
     "output_type": "stream",
     "text": [
      "\n",
      "Confusion Matrix:\n",
      "                     Low Congestion  Moderate Congestion  High Congestion\n",
      "Low Congestion                14442                   14                0\n",
      "Moderate Congestion               7                 9596               84\n",
      "High Congestion                   0                  103             1342\n",
      "\n",
      "Classification Report:\n",
      "                     precision    recall  f1-score   support\n",
      "\n",
      "     Low Congestion       1.00      1.00      1.00     14456\n",
      "Moderate Congestion       0.99      0.99      0.99      9687\n",
      "    High Congestion       0.94      0.93      0.93      1445\n",
      "\n",
      "           accuracy                           0.99     25588\n",
      "          macro avg       0.98      0.97      0.97     25588\n",
      "       weighted avg       0.99      0.99      0.99     25588\n",
      "\n"
     ]
    }
   ],
   "source": [
    "class_labels = ['Low Congestion', 'Moderate Congestion', 'High Congestion']\n",
    "# Initialize XGBoost classifier\n",
    "xgb_classifier = xgb.XGBClassifier()\n",
    "\n",
    "# Train the classifier\n",
    "xgb_classifier.fit(X_train, y_train)\n",
    "\n",
    "# Predictions on the testing set\n",
    "y_pred = xgb_classifier.predict(X_test)\n",
    "# Print confusion matrix and classification report with corresponding labels\n",
    "\n",
    "print(\"\\nConfusion Matrix:\")\n",
    "print(pd.DataFrame(confusion_matrix(y_test, y_pred), index=class_labels, columns=class_labels))\n",
    "print(\"\\nClassification Report:\")\n",
    "print(classification_report(y_test, y_pred, target_names=class_labels))"
   ]
  },
  {
   "cell_type": "code",
   "execution_count": 11,
   "metadata": {},
   "outputs": [],
   "source": [
    "# Export model\n",
    "pickle.dump(xgb_classifier, open('model_XGB_1.pkl', 'wb'))\n",
    "# Read the Model\n",
    "#model_pre_trained = pickle.load(open('model_XGB.pkl','rb'))"
   ]
  },
  {
   "cell_type": "code",
   "execution_count": 18,
   "metadata": {},
   "outputs": [
    {
     "data": {
      "text/plain": [
       "1"
      ]
     },
     "execution_count": 18,
     "metadata": {},
     "output_type": "execute_result"
    }
   ],
   "source": [
    "features = X_test.iloc[0].values\n",
    "\n",
    "# Create a DataFrame with the extracted features\n",
    "test_df = pd.DataFrame([features], columns=X_test.columns)\n",
    "\n",
    "# Make predictions\n",
    "prediction = model_pre_trained.predict(test_df)\n",
    "prediction.tolist()[0]"
   ]
  }
 ],
 "metadata": {
  "kernelspec": {
   "display_name": "base",
   "language": "python",
   "name": "python3"
  },
  "language_info": {
   "codemirror_mode": {
    "name": "ipython",
    "version": 3
   },
   "file_extension": ".py",
   "mimetype": "text/x-python",
   "name": "python",
   "nbconvert_exporter": "python",
   "pygments_lexer": "ipython3",
   "version": "3.9.7"
  }
 },
 "nbformat": 4,
 "nbformat_minor": 2
}
