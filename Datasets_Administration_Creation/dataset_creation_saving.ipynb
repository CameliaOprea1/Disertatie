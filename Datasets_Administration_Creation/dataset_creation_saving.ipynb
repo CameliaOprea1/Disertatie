{
 "cells": [
  {
   "cell_type": "code",
   "execution_count": 1,
   "metadata": {},
   "outputs": [],
   "source": [
    "import pandas as pd\n",
    "import json\n",
    "import numpy as np\n",
    "import osmnx as ox\n",
    "import networkx as nx\n",
    "import geopandas as gpd\n",
    "import random\n",
    "import pandas as pd\n",
    "import pickle\n",
    "import os\n",
    "import pyproj\n",
    "from shapely.geometry import Point, LineString\n",
    "from datetime import date, timedelta,datetime\n",
    "import time\n",
    "import csv\n",
    "from geopy.distance import geodesic\n",
    "from polyline import decode as decode_polyline\n",
    "import ast\n",
    "from datasets_creation import load_today_saved_google_data, append_to_csv\n",
    "output_directory = 'C:\\\\Users\\\\Camelia\\\\Desktop\\\\app\\\\Disertatie\\\\GeneticAlg'\n"
   ]
  },
  {
   "cell_type": "code",
   "execution_count": 12,
   "metadata": {},
   "outputs": [
    {
     "name": "stdout",
     "output_type": "stream",
     "text": [
      "The autoreload extension is already loaded. To reload it, use:\n",
      "  %reload_ext autoreload\n"
     ]
    }
   ],
   "source": [
    "%load_ext autoreload\n",
    "%autoreload 2"
   ]
  },
  {
   "cell_type": "code",
   "execution_count": 13,
   "metadata": {},
   "outputs": [],
   "source": [
    "from datasets_creation import load_today_saved_google_data, append_to_csv"
   ]
  },
  {
   "cell_type": "code",
   "execution_count": 21,
   "metadata": {},
   "outputs": [],
   "source": [
    "today_date = date.today()\n",
    "today_date_add_osmid = today_date - timedelta(days=1)"
   ]
  },
  {
   "cell_type": "code",
   "execution_count": 22,
   "metadata": {},
   "outputs": [],
   "source": [
    "df_today, extracted_weather_df, df_stored_incidents= load_today_saved_google_data(today_date_add_osmid)"
   ]
  },
  {
   "cell_type": "code",
   "execution_count": 7,
   "metadata": {},
   "outputs": [],
   "source": [
    "#today_date_add_osmid = today_date - timedelta(days=9)\n",
    "#df_today = pd.read_csv(os.path.join(output_directory,'route_data'+ today_date_add_osmid.strftime(\"%Y-%m-%d\")+'osmid.csv'))\n",
    "#extracted_weather_df = pd.read_csv(os.path.join(output_directory,'WeatherDataUntil_'+ today_date_add_osmid.strftime(\"%Y-%m-%d\")+'.csv'))\n",
    "#df_stored_incidents = pd.read_csv(os.path.join(output_directory,'IncidentDataUntil_'+ today_date_add_osmid.strftime(\"%Y-%m-%d\")+'.csv'))"
   ]
  },
  {
   "cell_type": "markdown",
   "metadata": {},
   "source": [
    "## Append  data to the existing dataset"
   ]
  },
  {
   "cell_type": "code",
   "execution_count": 23,
   "metadata": {},
   "outputs": [],
   "source": [
    "#adaug df_today, extracted_weather_df, df_stored_incidents(calculate in ziua curenta) la dataset-ul meu din ziua precedenta\n",
    "previous = today_date_add_osmid -  timedelta(days=1)\n",
    "filename = 'MergedUntil_'+previous.strftime(\"%Y-%m-%d\")+ '.csv'\n",
    "file_path = os.path.join(output_directory, filename)\n",
    "all_data = append_to_csv(df_today, file_path)\n",
    "filename = 'WeatherDataUntil_'+previous.strftime(\"%Y-%m-%d\")+ '.csv'\n",
    "file_path = os.path.join(output_directory, filename)\n",
    "all_weather_data = append_to_csv(extracted_weather_df, file_path)\n",
    "filename = 'IncidentDataUntil_'+previous.strftime(\"%Y-%m-%d\")+ '.csv'\n",
    "file_path = os.path.join(output_directory, filename)\n",
    "all_incidents_data = append_to_csv(df_stored_incidents, file_path)"
   ]
  },
  {
   "cell_type": "markdown",
   "metadata": {},
   "source": [
    "## Save the data"
   ]
  },
  {
   "cell_type": "code",
   "execution_count": 24,
   "metadata": {},
   "outputs": [],
   "source": [
    "\n",
    "all_data.to_csv(os.path.join(output_directory,'MergedUntil_'+ today_date_add_osmid.strftime(\"%Y-%m-%d\")+'.csv'))\n",
    "all_weather_data.to_csv(os.path.join(output_directory,'WeatherDataUntil_'+today_date_add_osmid.strftime(\"%Y-%m-%d\")+'.csv'))\n",
    "all_incidents_data.to_csv(os.path.join(output_directory,'IncidentDataUntil_'+today_date_add_osmid.strftime(\"%Y-%m-%d\")+'.csv'))"
   ]
  }
 ],
 "metadata": {
  "kernelspec": {
   "display_name": "base",
   "language": "python",
   "name": "python3"
  },
  "language_info": {
   "codemirror_mode": {
    "name": "ipython",
    "version": 3
   },
   "file_extension": ".py",
   "mimetype": "text/x-python",
   "name": "python",
   "nbconvert_exporter": "python",
   "pygments_lexer": "ipython3",
   "version": "3.9.7"
  }
 },
 "nbformat": 4,
 "nbformat_minor": 2
}
