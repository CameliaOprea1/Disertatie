{
 "cells": [
  {
   "cell_type": "code",
   "execution_count": 1,
   "metadata": {},
   "outputs": [],
   "source": [
    "import pandas as pd\n",
    "import numpy as np\n",
    "import pandas as pd\n",
    "from datetime import  timedelta\n",
    "from datetime import date\n",
    "from create_ml_dataset import create_ml_dataset\n",
    "import os\n",
    "from datasets_creation import load_today_saved_google_data, append_to_csv\n",
    "output_directory = 'C:\\\\Users\\\\Camelia\\\\Desktop\\\\app\\\\Disertatie\\\\ML'"
   ]
  },
  {
   "cell_type": "code",
   "execution_count": 67,
   "metadata": {},
   "outputs": [],
   "source": [
    "today_date = date.today()\n",
    "formatted_date = today_date.strftime(\"%Y-%m-%d\")\n",
    "prior_day = today_date - timedelta(days=1)"
   ]
  },
  {
   "cell_type": "code",
   "execution_count": 68,
   "metadata": {},
   "outputs": [],
   "source": [
    "#name_day ='route_data_'+formatted_date\n",
    "df_merged = pd.read_csv('C:\\\\Users\\\\Camelia\\\\Desktop\\\\app\\\\Disertatie\\\\GeneticAlg\\\\MergedUntil_'+prior_day.strftime(\"%Y-%m-%d\")+'.csv')\n",
    "extracted_weather_df = pd.read_csv('C:\\\\Users\\\\Camelia\\\\Desktop\\\\app\\\\Disertatie\\\\GeneticAlg\\\\WeatherDataUntil_'+prior_day.strftime(\"%Y-%m-%d\")+'.csv')\n",
    "df_stored_incidents= pd.read_csv('C:\\\\Users\\\\Camelia\\\\Desktop\\\\app\\\\Disertatie\\\\GeneticAlg\\\\IncidentDataUntil_'+prior_day.strftime(\"%Y-%m-%d\")+'.csv')"
   ]
  },
  {
   "cell_type": "code",
   "execution_count": 69,
   "metadata": {},
   "outputs": [],
   "source": [
    "df_ml = create_ml_dataset(df_merged, extracted_weather_df, df_stored_incidents)"
   ]
  },
  {
   "cell_type": "code",
   "execution_count": 9,
   "metadata": {},
   "outputs": [
    {
     "data": {
      "text/plain": [
       "Index(['timestamp', 'origin_osmid', 'destination_osmid', 'weather_data',\n",
       "       'day_of_week', 'holiday_data', 'traffic_incidents', 'intraffic_speed',\n",
       "       'average_speed', 'distance_value', 'congestion_level', 'time_of_day',\n",
       "       'hour'],\n",
       "      dtype='object')"
      ]
     },
     "execution_count": 9,
     "metadata": {},
     "output_type": "execute_result"
    }
   ],
   "source": [
    "df_ml.columns"
   ]
  },
  {
   "cell_type": "code",
   "execution_count": 70,
   "metadata": {},
   "outputs": [],
   "source": [
    "#adaug df_today, extracted_weather_df, df_stored_incidents(calculate in ziua curenta) la dataset-ul meu din ziua precedenta\n",
    "previous = prior_day -  timedelta(days=1)\n",
    "filename = 'MLDatasetUntil_'+previous.strftime(\"%Y-%m-%d\")+ '.csv'\n",
    "file_path = os.path.join(output_directory, filename)\n",
    "all_data = append_to_csv(df_ml, file_path)"
   ]
  },
  {
   "cell_type": "code",
   "execution_count": 71,
   "metadata": {},
   "outputs": [],
   "source": [
    "all_data.to_csv(os.path.join(output_directory,'MLDatasetUntil_'+ prior_day.strftime(\"%Y-%m-%d\")+'.csv'))"
   ]
  }
 ],
 "metadata": {
  "kernelspec": {
   "display_name": "base",
   "language": "python",
   "name": "python3"
  },
  "language_info": {
   "codemirror_mode": {
    "name": "ipython",
    "version": 3
   },
   "file_extension": ".py",
   "mimetype": "text/x-python",
   "name": "python",
   "nbconvert_exporter": "python",
   "pygments_lexer": "ipython3",
   "version": "3.9.7"
  }
 },
 "nbformat": 4,
 "nbformat_minor": 2
}
